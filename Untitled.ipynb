{
 "cells": [
  {
   "cell_type": "markdown",
   "metadata": {},
   "source": [
    "# Улогата на полот во одредено општество е асоцирано со границата на толеранција на болка, но не и со осетливост на болката\n",
    "\n"
   ]
  },
  {
   "cell_type": "markdown",
   "metadata": {},
   "source": [
    "„Вечната“ расправа дали мажите или жените може да издржат поголема болка заинтригирала низа научници да се обидат да стигнат до одговор преку истражувања на научна основа, но во резултатите е видлива дискрапанца. Ова истражување е значајно, бидејќи продира подлабоко во проблемот, при што одредувањето на **прагот и границата на издржливост на болка** кај мажите и кај жените е помалку важна од изолирањето на факторите што придонесуваат двата пола да изразуваат „мачистички“ став – дека можат да издржат поголема болка од спротивниот пол.\n",
    "Студијата покажала дека покрај разликите во одговорите од ГРЕП истражувањето, мажите и жените имале слична граница на болка. Мажите покажале значително посилни стереотипни ставови кон сензитивноста на болка и желбата да ја пријават болката, а жените покажале посилни стереотипни ставови кон издржливоста на болка.\n"
   ]
  },
  {
   "cell_type": "markdown",
   "metadata": {},
   "source": [
    "___\n",
    "\n",
    "<iframe width=\"560\" height=\"315\" src=\"https://www.youtube.com/embed/N1fwX-JnQtQ\" frameborder=\"0\" allow=\"accelerometer; autoplay; clipboard-write; encrypted-media; gyroscope; picture-in-picture\" allowfullscreen></iframe>\n"
   ]
  },
  {
   "cell_type": "markdown",
   "metadata": {},
   "source": []
  }
 ],
 "metadata": {
  "kernelspec": {
   "display_name": "Python 3",
   "language": "python",
   "name": "python3"
  },
  "language_info": {
   "codemirror_mode": {
    "name": "ipython",
    "version": 3
   },
   "file_extension": ".py",
   "mimetype": "text/x-python",
   "name": "python",
   "nbconvert_exporter": "python",
   "pygments_lexer": "ipython3",
   "version": "3.8.5"
  }
 },
 "nbformat": 4,
 "nbformat_minor": 4
}

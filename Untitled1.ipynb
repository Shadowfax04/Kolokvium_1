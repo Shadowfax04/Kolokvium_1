{
 "cells": [
  {
   "cell_type": "markdown",
   "metadata": {},
   "source": [
    "![Markdown logo](https://media.licdn.com/dms/image/C4E0BAQGVGmi9cQssCw/company-logo_200_200/0?e=2159024400&v=beta&t=jekDOzy-56ITPtsVueXKn4wGGykaZPJRIYPDwn0zMl0)\n",
    "\n",
    "# Улогата на полот во одредено општество е асоцирано со границата на толеранција на болка, но не и со осетливост на болката\n"
   ]
  },
  {
   "cell_type": "markdown",
   "metadata": {},
   "source": [
    "„Вечната“ расправа дали мажите или жените може да издржат поголема болка заинтригирала низа научници да се обидат да стигнат до одговор преку истражувања на научна основа, но во резултатите е видлива дискрапанца. Ова истражување е значајно, бидејќи продира подлабоко во проблемот, при што одредувањето на **прагот и границата на издржливост на болка** кај мажите и кај жените е помалку важна од изолирањето на факторите што придонесуваат двата пола да изразуваат „мачистички“ став – дека можат да издржат поголема болка од спротивниот пол.\n",
    "Студијата покажала дека покрај разликите во одговорите од ГРЕП истражувањето, мажите и жените имале слична граница на болка. Мажите покажале значително посилни стереотипни ставови кон сензитивноста на болка и желбата да ја пријават болката, а жените покажале посилни стереотипни ставови кон издржливоста на болка.\n",
    "\n"
   ]
  },
  {
   "cell_type": "markdown",
   "metadata": {},
   "source": [
    " \n"
   ]
  },
  {
   "cell_type": "markdown",
   "metadata": {},
   "source": [
    "<table><caption>Correlation coefficients between GREP items and between pain threshold and pain tolerance limit, Phase II sample (n = 72).</caption><tr><th></th><th>GREP items</th><th>Pain treshold</th><th>Pain tolerance limit</th></tr><tr><td>Whole sample</td><td>Pain sensitivity,self-op</td><td>-0.28</td><td>-0.41</td></tr><tr><td rowspan=\"3\">Males</td><td>Pain sensitivity,self-op</td><td></td><td>-0.40</td></tr><tr><td>Pain sensitivity, self-same</td><td></td><td>-0.33</td></tr><tr><td>Willingness to report, self-op</td><td></td><td>-0.35</td></tr><tr><td rowspan=\"3\">Females</td><td>Pain endurance, typical m-woman</td><td>-0.51</td><td></td></tr><tr><td>Pain endurance, typical w-man</td><td>-0.31</td><td></td></tr><tr><td>Pain sensitivity, self-op</td><td></td><td> -0.31  </td> </tr><tfoot><tr><td> p < 0.05. ** p < 0.001. *** p < 0.0001.</td></tr></tfoot></table>\n"
   ]
  },
  {
   "cell_type": "code",
   "execution_count": 32,
   "metadata": {},
   "outputs": [
    {
     "ename": "NameError",
     "evalue": "name 'df_goal' is not defined",
     "output_type": "error",
     "traceback": [
      "\u001b[1;31m---------------------------------------------------------------------------\u001b[0m",
      "\u001b[1;31mNameError\u001b[0m                                 Traceback (most recent call last)",
      "\u001b[1;32m<ipython-input-32-affad179856d>\u001b[0m in \u001b[0;36m<module>\u001b[1;34m\u001b[0m\n\u001b[0;32m      2\u001b[0m \u001b[1;32mimport\u001b[0m \u001b[0mmatplotlib\u001b[0m\u001b[1;33m.\u001b[0m\u001b[0mpyplot\u001b[0m \u001b[1;32mas\u001b[0m \u001b[0mplt\u001b[0m\u001b[1;33m\u001b[0m\u001b[1;33m\u001b[0m\u001b[0m\n\u001b[0;32m      3\u001b[0m \u001b[0mget_ipython\u001b[0m\u001b[1;33m(\u001b[0m\u001b[1;33m)\u001b[0m\u001b[1;33m.\u001b[0m\u001b[0mrun_line_magic\u001b[0m\u001b[1;33m(\u001b[0m\u001b[1;34m'matplotlib'\u001b[0m\u001b[1;33m,\u001b[0m \u001b[1;34m'inline'\u001b[0m\u001b[1;33m)\u001b[0m\u001b[1;33m\u001b[0m\u001b[1;33m\u001b[0m\u001b[0m\n\u001b[1;32m----> 4\u001b[1;33m \u001b[0mplt\u001b[0m\u001b[1;33m.\u001b[0m\u001b[0mbar\u001b[0m\u001b[1;33m(\u001b[0m\u001b[1;34m\"Player\"\u001b[0m\u001b[1;33m,\u001b[0m \u001b[1;34m\"Stat\"\u001b[0m\u001b[1;33m,\u001b[0m \u001b[0mdata\u001b[0m \u001b[1;33m=\u001b[0m \u001b[0mdf_goal\u001b[0m\u001b[1;33m,\u001b[0m \u001b[0mcolor\u001b[0m \u001b[1;33m=\u001b[0m \u001b[1;34m\"blue\"\u001b[0m\u001b[1;33m)\u001b[0m\u001b[1;33m\u001b[0m\u001b[1;33m\u001b[0m\u001b[0m\n\u001b[0m\u001b[0;32m      5\u001b[0m \u001b[0mplt\u001b[0m\u001b[1;33m.\u001b[0m\u001b[0mxlabel\u001b[0m\u001b[1;33m(\u001b[0m\u001b[1;34m\"Players\"\u001b[0m\u001b[1;33m)\u001b[0m\u001b[1;33m\u001b[0m\u001b[1;33m\u001b[0m\u001b[0m\n\u001b[0;32m      6\u001b[0m \u001b[0mplt\u001b[0m\u001b[1;33m.\u001b[0m\u001b[0mxticks\u001b[0m\u001b[1;33m(\u001b[0m\u001b[0mrotation\u001b[0m \u001b[1;33m=\u001b[0m \u001b[1;36m90\u001b[0m\u001b[1;33m)\u001b[0m\u001b[1;33m\u001b[0m\u001b[1;33m\u001b[0m\u001b[0m\n",
      "\u001b[1;31mNameError\u001b[0m: name 'df_goal' is not defined"
     ]
    }
   ],
   "source": [
    "## Import data visualization packages\n",
    "import matplotlib.pyplot as plt\n",
    "%matplotlib inline\n",
    "plt.bar(\"Player\", \"Stat\", data = df_goal, color = \"blue\")\n",
    "plt.xlabel(\"Players\")\n",
    "plt.xticks(rotation = 90)\n",
    "plt.ylabel(\"Goal Scored\")\n",
    "plt.title(\"Highest goal scorers in the Premier league 2019-20 by mid-season\")\n",
    "plt.show()"
   ]
  },
  {
   "cell_type": "code",
   "execution_count": 33,
   "metadata": {},
   "outputs": [
    {
     "ename": "ModuleNotFoundError",
     "evalue": "No module named 'plotly'",
     "output_type": "error",
     "traceback": [
      "\u001b[1;31m---------------------------------------------------------------------------\u001b[0m",
      "\u001b[1;31mModuleNotFoundError\u001b[0m                       Traceback (most recent call last)",
      "\u001b[1;32m<ipython-input-33-11d79a4bcb46>\u001b[0m in \u001b[0;36m<module>\u001b[1;34m\u001b[0m\n\u001b[1;32m----> 1\u001b[1;33m \u001b[1;32mimport\u001b[0m \u001b[0mplotly\u001b[0m\u001b[1;33m.\u001b[0m\u001b[0mexpress\u001b[0m \u001b[1;32mas\u001b[0m \u001b[0mpx\u001b[0m\u001b[1;33m\u001b[0m\u001b[1;33m\u001b[0m\u001b[0m\n\u001b[0m\u001b[0;32m      2\u001b[0m \u001b[0mdata_canada\u001b[0m \u001b[1;33m=\u001b[0m \u001b[0mpx\u001b[0m\u001b[1;33m.\u001b[0m\u001b[0mdata\u001b[0m\u001b[1;33m.\u001b[0m\u001b[0mgapminder\u001b[0m\u001b[1;33m(\u001b[0m\u001b[1;33m)\u001b[0m\u001b[1;33m.\u001b[0m\u001b[0mquery\u001b[0m\u001b[1;33m(\u001b[0m\u001b[1;34m\"country == 'Canada'\"\u001b[0m\u001b[1;33m)\u001b[0m\u001b[1;33m\u001b[0m\u001b[1;33m\u001b[0m\u001b[0m\n\u001b[0;32m      3\u001b[0m \u001b[0mfig\u001b[0m \u001b[1;33m=\u001b[0m \u001b[0mpx\u001b[0m\u001b[1;33m.\u001b[0m\u001b[0mbar\u001b[0m\u001b[1;33m(\u001b[0m\u001b[0mdata_canada\u001b[0m\u001b[1;33m,\u001b[0m \u001b[0mx\u001b[0m\u001b[1;33m=\u001b[0m\u001b[1;34m'year'\u001b[0m\u001b[1;33m,\u001b[0m \u001b[0my\u001b[0m\u001b[1;33m=\u001b[0m\u001b[1;34m'pop'\u001b[0m\u001b[1;33m)\u001b[0m\u001b[1;33m\u001b[0m\u001b[1;33m\u001b[0m\u001b[0m\n\u001b[0;32m      4\u001b[0m \u001b[0mfig\u001b[0m\u001b[1;33m.\u001b[0m\u001b[0mshow\u001b[0m\u001b[1;33m(\u001b[0m\u001b[1;33m)\u001b[0m\u001b[1;33m\u001b[0m\u001b[1;33m\u001b[0m\u001b[0m\n",
      "\u001b[1;31mModuleNotFoundError\u001b[0m: No module named 'plotly'"
     ]
    }
   ],
   "source": []
  }
 ],
 "metadata": {
  "kernelspec": {
   "display_name": "Python 3",
   "language": "python",
   "name": "python3"
  },
  "language_info": {
   "codemirror_mode": {
    "name": "ipython",
    "version": 3
   },
   "file_extension": ".py",
   "mimetype": "text/x-python",
   "name": "python",
   "nbconvert_exporter": "python",
   "pygments_lexer": "ipython3",
   "version": "3.8.5"
  }
 },
 "nbformat": 4,
 "nbformat_minor": 4
}
